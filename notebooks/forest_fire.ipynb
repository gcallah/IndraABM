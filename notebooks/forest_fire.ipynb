{
 "cells": [
  {
   "cell_type": "markdown",
   "metadata": {},
   "source": [
    "Set ENV user_type to properly run the model in the notebook"
   ]
  },
  {
   "cell_type": "code",
   "execution_count": null,
   "metadata": {},
   "outputs": [],
   "source": [
    "import os\n",
    "os.environ[\"user_type\"] = \"terminal\""
   ]
  },
  {
   "cell_type": "markdown",
   "metadata": {},
   "source": [
    "A short description about this model."
   ]
  },
  {
   "cell_type": "code",
   "execution_count": null,
   "metadata": {},
   "outputs": [],
   "source": [
    "\"\"\"\n",
    "A model for how fires spread through a forest.\n",
    "\"\"\""
   ]
  },
  {
   "cell_type": "markdown",
   "metadata": {},
   "source": [
    "We import all necessary modules and functions from other files."
   ]
  },
  {
   "cell_type": "code",
   "execution_count": null,
   "metadata": {},
   "outputs": [],
   "source": [
    "from lib.agent import DONT_MOVE\n",
    "from lib.display_methods import TOMATO, GREEN, RED, SPRINGGREEN, BLACK\n",
    "from lib.model import Model, MBR_ACTION, NUM_MBRS, COLOR\n",
    "from lib.agent import prob_state_trans\n",
    "from lib.space import exists_neighbor\n",
    "from registry.registry import get_model"
   ]
  },
  {
   "cell_type": "markdown",
   "metadata": {},
   "source": [
    "These are the constants and global variables we used in this model."
   ]
  },
  {
   "cell_type": "code",
   "execution_count": null,
   "metadata": {},
   "outputs": [],
   "source": [
    "MODEL_NAME = \"forest_fire\"\n",
    "DEBUG = False  # turns debugging code on or off\n",
    "DEBUG2 = False  # turns deeper debugging code on or off\n",
    "\n",
    "DEF_NUM_TREES = 10\n",
    "DEF_DIM = 30\n",
    "DEF_DENSITY = .44\n",
    "DEF_NEW_FIRE = .01\n",
    "# tree group names\n",
    "HEALTHY = \"Healthy\"\n",
    "NEW_FIRE = \"New Fire\"\n",
    "ON_FIRE = \"On Fire\"\n",
    "BURNED_OUT = \"Burned Out\"\n",
    "NEW_GROWTH = \"New Growth\"\n",
    "\n",
    "# state numbers: create as strings for JSON,\n",
    "# convert to int when we need 'em that way\n",
    "HE = \"0\"\n",
    "NF = \"1\"\n",
    "OF = \"2\"\n",
    "BO = \"3\"\n",
    "NG = \"4\"\n",
    "\n",
    "TRANS_TABLE = \"trans_table\"\n",
    "state_trans = [\n",
    "    [1 - DEF_NEW_FIRE, DEF_NEW_FIRE, 0.0, 0.0, 0.0],\n",
    "    [0.0, 0.0, 1.0, 0.0, 0.0],\n",
    "    [0.0, 0.0, 0.0, 1.0, 0.0],\n",
    "    [0.0, 0.0, 0.0, .99, .01],\n",
    "    [1.0, 0.0, 0.0, 0.0, 0.0],\n",
    "]\n",
    "\n",
    "GROUP_MAP = \"group_map\"\n",
    "\n",
    "STATE_MAP = {HEALTHY: HE,\n",
    "             NEW_FIRE: NF,\n",
    "             ON_FIRE: OF,\n",
    "             BURNED_OUT: BO,\n",
    "             NEW_GROWTH: NG}\n",
    "\n",
    "GROUP_MAP = {HE: HEALTHY,\n",
    "             NF: NEW_FIRE,\n",
    "             OF: ON_FIRE,\n",
    "             BO: BURNED_OUT,\n",
    "             NG: NEW_GROWTH}"
   ]
  },
  {
   "cell_type": "markdown",
   "metadata": {},
   "source": [
    "The following functions define some actions that our agents can make."
   ]
  },
  {
   "cell_type": "code",
   "execution_count": null,
   "metadata": {},
   "outputs": [],
   "source": [
    "def tree_action(agent, **kwargs):\n",
    "    \"\"\"\n",
    "    A simple default agent action.\n",
    "    \"\"\"\n",
    "    # print(\"The agent is\", agent)\n",
    "    # print(\"The agent's group is\", agent.group_name())\n",
    "    model = get_model(agent.exec_key)\n",
    "    old_group = agent.group_name()\n",
    "    if old_group == HEALTHY:\n",
    "        if exists_neighbor(agent, lambda agent: agent.group_name() == ON_FIRE):\n",
    "            if DEBUG2:\n",
    "                print(\"Setting nearby tree on fire!\")\n",
    "            agent.set_prim_group(NEW_FIRE)\n",
    "\n",
    "    # if we didn't catch on fire above, do probabilistic transition:\n",
    "    if old_group == agent.group_name():\n",
    "        curr_state = STATE_MAP[old_group]\n",
    "        # we gotta do these str/int shenanigans with state cause\n",
    "        # JSON only allows strings as dict keys\n",
    "        agent.set_prim_group(GROUP_MAP[str(prob_state_trans(int(curr_state),\n",
    "                                                            state_trans))])\n",
    "        if DEBUG2:\n",
    "            if agent.group_name == NEW_FIRE:\n",
    "                print(\"Tree spontaneously catching fire.\")\n",
    "\n",
    "    if old_group != agent.group_name():\n",
    "        model.add_switch(str(agent),\n",
    "                         old_group,\n",
    "                         agent.group_name())\n",
    "    return DONT_MOVE"
   ]
  },
  {
   "cell_type": "markdown",
   "metadata": {},
   "source": [
    "This structure defines the groups that characterize our agents."
   ]
  },
  {
   "cell_type": "code",
   "execution_count": null,
   "metadata": {},
   "outputs": [],
   "source": [
    "ff_grps = {\n",
    "    HEALTHY: {\n",
    "        MBR_ACTION: tree_action,\n",
    "        NUM_MBRS: DEF_NUM_TREES,\n",
    "        COLOR: GREEN,\n",
    "    },\n",
    "    NEW_FIRE: {\n",
    "        NUM_MBRS: 0,\n",
    "        COLOR: TOMATO,\n",
    "    },\n",
    "    ON_FIRE: {\n",
    "        NUM_MBRS: 0,\n",
    "        COLOR: RED,\n",
    "    },\n",
    "    BURNED_OUT: {\n",
    "        NUM_MBRS: 0,\n",
    "        COLOR: BLACK,\n",
    "    },\n",
    "    NEW_GROWTH: {\n",
    "        NUM_MBRS: 0,\n",
    "        COLOR: SPRINGGREEN,\n",
    "    },\n",
    "}"
   ]
  },
  {
   "cell_type": "markdown",
   "metadata": {},
   "source": [
    "We subclass `Model` to create our own variant of it."
   ]
  },
  {
   "cell_type": "code",
   "execution_count": null,
   "metadata": {},
   "outputs": [],
   "source": [
    "class ForestFire(Model):\n",
    "    \"\"\"\n",
    "    The forest fire model.\n",
    "    \"\"\"\n",
    "    def handle_props(self, props):\n",
    "        super().handle_props(props)\n",
    "        height = self.props.get(\"grid_height\")\n",
    "        width = self.props.get(\"grid_width\")\n",
    "        density = self.props.get(\"density\")\n",
    "        num_agents = int(height * width * density)\n",
    "        self.grp_struct[HEALTHY][\"num_mbrs\"] = num_agents"
   ]
  },
  {
   "cell_type": "markdown",
   "metadata": {},
   "source": [
    "Here's where we create the model class."
   ]
  },
  {
   "cell_type": "code",
   "execution_count": null,
   "metadata": {},
   "outputs": [],
   "source": [
    "def create_model(serial_obj=None, props=None):\n",
    "    \"\"\"\n",
    "    This is for the sake of the API server:\n",
    "    \"\"\"\n",
    "    if serial_obj is not None:\n",
    "        return ForestFire(serial_obj=serial_obj)\n",
    "    else:\n",
    "        return ForestFire(MODEL_NAME, grp_struct=ff_grps,\n",
    "                          props=props, random_placing=False)"
   ]
  },
  {
   "cell_type": "markdown",
   "metadata": {},
   "source": [
    "The main function runs the whole model."
   ]
  },
  {
   "cell_type": "code",
   "execution_count": null,
   "metadata": {},
   "outputs": [],
   "source": [
    "def main():\n",
    "    model = create_model()\n",
    "    model.run()\n",
    "    return 0"
   ]
  },
  {
   "cell_type": "markdown",
   "metadata": {},
   "source": [
    "Now just call main!"
   ]
  },
  {
   "cell_type": "code",
   "execution_count": null,
   "metadata": {},
   "outputs": [],
   "source": [
    "if __name__ == \"__main__\":\n",
    "    main()"
   ]
  }
 ],
 "metadata": {},
 "nbformat": 4,
 "nbformat_minor": 4
}
