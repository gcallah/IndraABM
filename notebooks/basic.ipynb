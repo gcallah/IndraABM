{
 "cells": [
  {
   "cell_type": "markdown",
   "metadata": {},
   "source": [
    "A short description about this model."
   ]
  },
  {
   "cell_type": "code",
   "execution_count": null,
   "metadata": {},
   "outputs": [],
   "source": [
    "\"\"\"\n",
    "This is a minimal model that inherits from model.py\n",
    "and just sets up a couple of agents in two groups that\n",
    "do nothing except move around randomly.\n",
    "\"\"\""
   ]
  },
  {
   "cell_type": "markdown",
   "metadata": {},
   "source": [
    "We import all necessary modules and functions from other files."
   ]
  },
  {
   "cell_type": "code",
   "execution_count": 1,
   "metadata": {},
   "outputs": [
    {
     "name": "stdout",
     "output_type": "stream",
     "text": [
      "Creating new registry\n"
     ]
    }
   ],
   "source": [
    "from lib.agent import MOVE\n",
    "from lib.display_methods import RED, BLUE\n",
    "from lib.model import Model, NUM_MBRS, MBR_ACTION, NUM_MBRS_PROP, COLOR"
   ]
  },
  {
   "cell_type": "markdown",
   "metadata": {},
   "source": [
    "These are the constants and global variables we used in this model."
   ]
  },
  {
   "cell_type": "code",
   "execution_count": 2,
   "metadata": {},
   "outputs": [],
   "source": [
    "DEBUG = False\n",
    "\n",
    "MODEL_NAME = \"basic\"\n",
    "DEF_RED_MBRS = 2\n",
    "DEF_BLUE_MBRS = 2\n",
    "num_blue = 0"
   ]
  },
  {
   "cell_type": "markdown",
   "metadata": {},
   "source": [
    "The following functions define some actions that our agents can make."
   ]
  },
  {
   "cell_type": "code",
   "execution_count": 3,
   "metadata": {},
   "outputs": [],
   "source": [
    "def basic_action(agent, **kwargs):\n",
    "    \"\"\"\n",
    "    A simple default agent action.\n",
    "    \"\"\"\n",
    "    if DEBUG:\n",
    "        print(\"Agent {} is located at {}\".format(agent.name,\n",
    "                                                 agent.get_pos()))\n",
    "    return MOVE"
   ]
  },
  {
   "cell_type": "markdown",
   "metadata": {},
   "source": [
    "This structure defines the groups that characterize our agents."
   ]
  },
  {
   "cell_type": "code",
   "execution_count": 4,
   "metadata": {},
   "outputs": [],
   "source": [
    "basic_grps = {\n",
    "    \"blue_grp\": {\n",
    "        MBR_ACTION: basic_action,\n",
    "        NUM_MBRS: DEF_BLUE_MBRS,\n",
    "        NUM_MBRS_PROP: \"num_blue\",\n",
    "        COLOR: BLUE\n",
    "    },\n",
    "    \"red_grp\": {\n",
    "        MBR_ACTION: basic_action,\n",
    "        NUM_MBRS: DEF_RED_MBRS,\n",
    "        NUM_MBRS_PROP: \"num_red\",\n",
    "        COLOR: RED\n",
    "    },\n",
    "}"
   ]
  },
  {
   "cell_type": "markdown",
   "metadata": {},
   "source": [
    "We subclass `Model` to create our own variant of it."
   ]
  },
  {
   "cell_type": "code",
   "execution_count": 5,
   "metadata": {},
   "outputs": [],
   "source": [
    "class Basic(Model):\n",
    "    \"\"\"\n",
    "    This class should just create a basic model that runs, has\n",
    "    some agents that move around, and allows us to test if\n",
    "    the system as a whole is working.\n",
    "    It turns out that so far, we don't really need to subclass anything!\n",
    "    \"\"\""
   ]
  },
  {
   "cell_type": "markdown",
   "metadata": {},
   "source": [
    "Here's where we create the model class."
   ]
  },
  {
   "cell_type": "code",
   "execution_count": 8,
   "metadata": {},
   "outputs": [],
   "source": [
    "def create_model(serial_obj=None, props=None):\n",
    "    \"\"\"\n",
    "    This is for the sake of the API server:\n",
    "    \"\"\"\n",
    "    if serial_obj is not None:\n",
    "        return Basic(serial_obj=serial_obj)\n",
    "    else:\n",
    "        return Basic(MODEL_NAME, grp_struct=basic_grps, props=props)"
   ]
  },
  {
   "cell_type": "markdown",
   "metadata": {},
   "source": [
    "The main function runs the whole model."
   ]
  },
  {
   "cell_type": "code",
   "execution_count": 9,
   "metadata": {},
   "outputs": [],
   "source": [
    "def main():\n",
    "    model = create_model()\n",
    "    model.run()\n",
    "    return 0"
   ]
  },
  {
   "cell_type": "code",
   "execution_count": null,
   "metadata": {},
   "outputs": [],
   "source": []
  }
 ],
 "metadata": {
  "kernelspec": {
   "display_name": "Python 3",
   "language": "python",
   "name": "python3"
  },
  "language_info": {
   "codemirror_mode": {
    "name": "ipython",
    "version": 3
   },
   "file_extension": ".py",
   "mimetype": "text/x-python",
   "name": "python",
   "nbconvert_exporter": "python",
   "pygments_lexer": "ipython3",
   "version": "3.9.0"
  }
 },
 "nbformat": 4,
 "nbformat_minor": 4
}
