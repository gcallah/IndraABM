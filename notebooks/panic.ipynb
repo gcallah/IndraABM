{
 "cells": [
  {
   "cell_type": "markdown",
   "metadata": {},
   "source": [
    "Set ENV user_type to properly run the model in the notebook"
   ]
  },
  {
   "cell_type": "code",
   "execution_count": null,
   "metadata": {},
   "outputs": [],
   "source": [
    "import os\n",
    "os.environ[\"user_type\"] = \"terminal\""
   ]
  },
  {
   "cell_type": "markdown",
   "metadata": {},
   "source": [
    "A short description about this model."
   ]
  },
  {
   "cell_type": "code",
   "execution_count": null,
   "metadata": {},
   "outputs": [],
   "source": [
    "\"\"\"\n",
    "A model to simulate the spread of panic in a crowd.\n",
    "\"\"\""
   ]
  },
  {
   "cell_type": "markdown",
   "metadata": {},
   "source": [
    "We import all necessary modules and functions from other files."
   ]
  },
  {
   "cell_type": "code",
   "execution_count": null,
   "metadata": {},
   "outputs": [],
   "source": [
    "import math\n",
    "from lib.agent import DONT_MOVE\n",
    "from lib.space import neighbor_ratio\n",
    "from lib.display_methods import RED, GREEN\n",
    "from lib.model import Model, MBR_ACTION, NUM_MBRS, COLOR, GRP_ACTION\n",
    "from registry.registry import get_model, get_agent\n",
    "import random as rand"
   ]
  },
  {
   "cell_type": "markdown",
   "metadata": {},
   "source": [
    "These are the constants and global variables we used in this model."
   ]
  },
  {
   "cell_type": "code",
   "execution_count": null,
   "metadata": {},
   "outputs": [],
   "source": [
    "MODEL_NAME = \"panic\"\n",
    "PANICKED = \"panicked\"\n",
    "DEBUG = False  # turns debugging code on or off\n",
    "DEBUG2 = False  # turns deeper debugging code on or off\n",
    "\n",
    "DEF_DIM = 10\n",
    "WIDTH = \"width\"\n",
    "HEIGHT = \"height\"\n",
    "DEF_NUM_PEOPLE = DEF_DIM*DEF_DIM\n",
    "DEF_NUM_PANIC = 0\n",
    "DEF_NUM_CALM = int(.7 * DEF_NUM_PEOPLE)\n",
    "DEF_NUM_PANIC = int(.3 * DEF_NUM_PEOPLE)\n",
    "\n",
    "AGENT_PREFIX = \"Agent\"\n",
    "THRESHHOLD = .2\n",
    "\n",
    "CALM = \"Calm\"\n",
    "PANIC = \"Panic\"\n",
    "first_period = True"
   ]
  },
  {
   "cell_type": "markdown",
   "metadata": {},
   "source": [
    "The following functions define some actions that our agents can make."
   ]
  },
  {
   "cell_type": "code",
   "execution_count": null,
   "metadata": {},
   "outputs": [],
   "source": [
    "def agent_action(agent, **kwargs):\n",
    "    \"\"\"\n",
    "    This is what agents do each turn of the model.\n",
    "    \"\"\"\n",
    "    if DEBUG2:\n",
    "        print(\"The agent is called\", agent)\n",
    "    global first_period\n",
    "    if first_period:\n",
    "        start_panic(agent.exec_key)\n",
    "    first_period = False\n",
    "    ratio = neighbor_ratio(agent, lambda agent: agent.group_name() == PANIC)\n",
    "    if ratio > THRESHHOLD:\n",
    "        if DEBUG2:\n",
    "            print(\"Changing the agent's group to panic!\")\n",
    "        agent.has_acted = True\n",
    "        if agent.group_name() == CALM:\n",
    "            get_model(agent.exec_key).add_switch(str(agent), CALM, PANIC)\n",
    "    return DONT_MOVE\n",
    "\n",
    "\n",
    "def start_panic(exec_key):\n",
    "    maxPosn = panic_grps[CALM][WIDTH] * panic_grps[CALM][HEIGHT]\n",
    "    num_panic = panic_grps[PANIC][PANICKED]\n",
    "    for i in range(0, num_panic):\n",
    "        agent_posn = rand.randint(0, maxPosn)\n",
    "        agent_name = \"Calm\" + str(agent_posn)\n",
    "        agent = get_agent(agent_name, exec_key)\n",
    "        if agent is not None and agent.group_name() == CALM:\n",
    "            get_model(exec_key).add_switch(agent_name, CALM, PANIC)"
   ]
  },
  {
   "cell_type": "markdown",
   "metadata": {},
   "source": [
    "This structure defines the groups that characterize our agents."
   ]
  },
  {
   "cell_type": "code",
   "execution_count": null,
   "metadata": {},
   "outputs": [],
   "source": [
    "panic_grps = {\n",
    "    CALM: {\n",
    "        GRP_ACTION: None,\n",
    "        MBR_ACTION: agent_action,\n",
    "        NUM_MBRS: DEF_NUM_CALM,\n",
    "        COLOR: GREEN,\n",
    "        WIDTH: DEF_DIM,\n",
    "        HEIGHT: DEF_DIM,\n",
    "    },\n",
    "    PANIC: {\n",
    "        GRP_ACTION: None,\n",
    "        MBR_ACTION: agent_action,\n",
    "        NUM_MBRS: 0,\n",
    "        PANICKED: DEF_NUM_PANIC,\n",
    "        COLOR: RED\n",
    "    },\n",
    "}"
   ]
  },
  {
   "cell_type": "markdown",
   "metadata": {},
   "source": [
    "We subclass `Model` to create our own variant of it."
   ]
  },
  {
   "cell_type": "code",
   "execution_count": null,
   "metadata": {},
   "outputs": [],
   "source": [
    "class Panic(Model):\n",
    "    def handle_props(self, props):\n",
    "        super().handle_props(props)\n",
    "        grid_height = self.props.get(\"grid_height\")\n",
    "        grid_width = self.props.get(\"grid_width\")\n",
    "        num_agents = (grid_height * grid_width)\n",
    "        if DEBUG2:\n",
    "            print(\"The grid dimencions are\", grid_height * grid_width)\n",
    "            print(\"The number of agents is\", num_agents)\n",
    "        ratio_panic = self.props.get(\"pct_panic\") / 100\n",
    "        self.num_panic = math.floor(ratio_panic * num_agents)\n",
    "        self.grp_struct[CALM][NUM_MBRS] = int(num_agents)\n",
    "        self.grp_struct[PANIC][PANICKED] = int(ratio_panic * num_agents)\n",
    "        self.grp_struct[CALM][WIDTH] = grid_width\n",
    "        self.grp_struct[CALM][HEIGHT] = grid_height"
   ]
  },
  {
   "cell_type": "markdown",
   "metadata": {},
   "source": [
    "Here's where we create the model class."
   ]
  },
  {
   "cell_type": "code",
   "execution_count": null,
   "metadata": {},
   "outputs": [],
   "source": [
    "def create_model(serial_obj=None, props=None):\n",
    "    \"\"\"\n",
    "    This is for the sake of the API server:\n",
    "    \"\"\"\n",
    "    if serial_obj is not None:\n",
    "        return Panic(serial_obj=serial_obj)\n",
    "    else:\n",
    "        return Panic(MODEL_NAME, grp_struct=panic_grps,\n",
    "                     props=props, random_placing=False)"
   ]
  },
  {
   "cell_type": "markdown",
   "metadata": {},
   "source": [
    "The main function runs the whole model."
   ]
  },
  {
   "cell_type": "code",
   "execution_count": null,
   "metadata": {},
   "outputs": [],
   "source": [
    "def main():\n",
    "    model = create_model()\n",
    "    model.run()\n",
    "    return 0"
   ]
  },
  {
   "cell_type": "markdown",
   "metadata": {},
   "source": [
    "Now just call main!"
   ]
  },
  {
   "cell_type": "code",
   "execution_count": null,
   "metadata": {},
   "outputs": [],
   "source": [
    "if __name__ == \"__main__\":\n",
    "    main()"
   ]
  }
 ],
 "metadata": {},
 "nbformat": 4,
 "nbformat_minor": 4
}
