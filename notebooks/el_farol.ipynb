{
 "cells": [
  {
   "cell_type": "markdown",
   "metadata": {},
   "source": [
    "Set ENV user_type to properly run the model in the notebook"
   ]
  },
  {
   "cell_type": "code",
   "execution_count": null,
   "metadata": {},
   "outputs": [],
   "source": [
    "import os\n",
    "os.environ[\"user_type\"] = \"terminal\""
   ]
  },
  {
   "cell_type": "markdown",
   "metadata": {},
   "source": [
    "A short description about this model."
   ]
  },
  {
   "cell_type": "code",
   "execution_count": null,
   "metadata": {},
   "outputs": [],
   "source": [
    "\"\"\"\n",
    "This is a minimal model that inherits from model.py\n",
    "and just sets up a couple of agents in two groups that\n",
    "do   nothing except move around randomly.\n",
    "\"\"\""
   ]
  },
  {
   "cell_type": "markdown",
   "metadata": {},
   "source": [
    "We import all necessary modules and functions from other files."
   ]
  },
  {
   "cell_type": "code",
   "execution_count": null,
   "metadata": {},
   "outputs": [],
   "source": [
    "import random\n",
    "from lib.agent import MOVE, Agent\n",
    "from lib.display_methods import RED, BLUE\n",
    "from lib.model import Model, NUM_MBRS, MBR_ACTION\n",
    "from lib.model import COLOR, MBR_CREATOR\n",
    "from registry.registry import get_model"
   ]
  },
  {
   "cell_type": "markdown",
   "metadata": {},
   "source": [
    "These are the constants and global variables we used in this model."
   ]
  },
  {
   "cell_type": "code",
   "execution_count": null,
   "metadata": {},
   "outputs": [],
   "source": [
    "AT_HOME = \"At home\"\n",
    "AT_BAR = \"At bar\"\n",
    "\n",
    "MODEL_NAME = \"el_farol\"\n",
    "DEF_AT_HOME = 2\n",
    "DEF_AT_BAR = 2\n",
    "DEF_MOTIV = 0.6\n",
    "MOTIV = \"motivation\"\n",
    "BAR_ATTEND = \"bar attendees\"\n",
    "HALF_FULL = .5\n",
    "DEBUG = False\n",
    "OPT_OCUPANCY = 0.6\n",
    "MEMORY = 'memory'\n",
    "DEF_MEM_CAPACITY = 7  # Must be an integer\n",
    "mem_capacity = DEF_MEM_CAPACITY"
   ]
  },
  {
   "cell_type": "markdown",
   "metadata": {},
   "source": [
    "The following functions define some actions that our agents can make."
   ]
  },
  {
   "cell_type": "code",
   "execution_count": null,
   "metadata": {},
   "outputs": [],
   "source": [
    "def get_decision(agent):\n",
    "    \"\"\"\n",
    "    Decide whether to get wasted today or not\n",
    "    \"\"\"\n",
    "    return random.random() <= agent[MOTIV]\n",
    "\n",
    "\n",
    "def add_up_to(n):\n",
    "    \"\"\"\n",
    "    Given an integer n, returns the sum\n",
    "    from 0 to n.\n",
    "    \"\"\"\n",
    "    if n <= 0:\n",
    "        return 0\n",
    "    return add_up_to(n-1) + n\n",
    "\n",
    "\n",
    "def weighted_sum(arr):\n",
    "    \"\"\"\n",
    "    Given an array representing agent\n",
    "    memories, return a weighted sum.\n",
    "    Recent memories weight more.\n",
    "    \"\"\"\n",
    "    total = 0\n",
    "    for i in range(len(arr)):\n",
    "        total += arr[i] * (i + 1)\n",
    "    return total\n",
    "\n",
    "\n",
    "def memory_check(agent):\n",
    "    \"\"\"\n",
    "    Return percentage of capacity the bar was at\n",
    "    based on last attendances.\n",
    "    \"\"\"\n",
    "    mem_attendance = agent[MEMORY]\n",
    "    w_sum = weighted_sum(mem_attendance)\n",
    "    total = add_up_to(len(mem_attendance))\n",
    "    percent_full = w_sum / total\n",
    "    if DEBUG:\n",
    "        print(\"Percent empty:\", 1 - percent_full)\n",
    "    return percent_full\n",
    "\n",
    "\n",
    "def drinker_action(agent, **kwargs):\n",
    "    \"\"\"\n",
    "    To go or not to go, that is the question.\n",
    "    The decision is based on the agent's memory of how crowded the\n",
    "    bar has been recently (a parameter).\n",
    "    \"\"\"\n",
    "    if DEBUG:\n",
    "        print(\"Alcoholic {} is located at {}\".format(agent.name,\n",
    "                                                     agent.get_pos()))\n",
    "    bar = get_model(agent.exec_key)\n",
    "    percent_full = memory_check(agent)\n",
    "    # agent motivation is inverse agent's memory of percentage full\n",
    "    agent[MOTIV] = 1 - percent_full\n",
    "    going = get_decision(agent)\n",
    "    if agent.group_name() == AT_HOME:\n",
    "        if going:\n",
    "            bar.add_switch(str(agent), AT_HOME, AT_BAR)\n",
    "    else:\n",
    "        if not going:\n",
    "            bar.add_switch(str(agent), AT_BAR, AT_HOME)\n",
    "        # Updating the agent's memory for last night.\n",
    "        # There might be a better place to do this.\n",
    "        # doing it here has a one day lag.\n",
    "        population = (bar.grp_struct[AT_BAR][\"num_mbrs\"] +\n",
    "                      bar.grp_struct[AT_HOME][\"num_mbrs\"])\n",
    "        attendance = bar.env.pop_hist.pops[AT_BAR]\n",
    "        last_att_perc = attendance[-1]/population\n",
    "        agent[MEMORY].pop(0)\n",
    "        agent[MEMORY].append(last_att_perc)\n",
    "    return MOVE\n",
    "\n",
    "\n",
    "def create_drinker(name, i, exec_key=None, action=drinker_action):\n",
    "    \"\"\"\n",
    "    Create a drinker\n",
    "    drinkers starts with a random motivation\n",
    "    \"\"\"\n",
    "    rand_motive = random.random()\n",
    "    recent_crowds = [HALF_FULL]*mem_capacity\n",
    "    return Agent(name + str(i),\n",
    "                 attrs={MOTIV: rand_motive, MEMORY: recent_crowds},\n",
    "                 action=action, exec_key=exec_key)"
   ]
  },
  {
   "cell_type": "markdown",
   "metadata": {},
   "source": [
    "This structure defines the groups that characterize our agents."
   ]
  },
  {
   "cell_type": "code",
   "execution_count": null,
   "metadata": {},
   "outputs": [],
   "source": [
    "el_farol_grps = {\n",
    "    AT_HOME: {\n",
    "        MBR_CREATOR: create_drinker,\n",
    "        MBR_ACTION: drinker_action,\n",
    "        NUM_MBRS: DEF_AT_HOME,\n",
    "        COLOR: BLUE\n",
    "    },\n",
    "    AT_BAR: {\n",
    "        MBR_CREATOR: create_drinker,\n",
    "        MBR_ACTION: drinker_action,\n",
    "        NUM_MBRS: DEF_AT_BAR,\n",
    "        COLOR: RED\n",
    "    },\n",
    "}"
   ]
  },
  {
   "cell_type": "markdown",
   "metadata": {},
   "source": [
    "We subclass `Model` to create our own variant of it."
   ]
  },
  {
   "cell_type": "code",
   "execution_count": null,
   "metadata": {},
   "outputs": [],
   "source": [
    "class ElFarol(Model):\n",
    "    \"\"\"\n",
    "    The El Farol bar: a great place to be, unless everyone else goes there\n",
    "    also!\n",
    "    \"\"\"\n",
    "    def handle_props(self, props):\n",
    "        \"\"\"\n",
    "        overidding pop_hist\n",
    "        \"\"\"\n",
    "        super().handle_props(props)\n",
    "        num_mbrs = self.props.get(\"population\")\n",
    "        at_bar = num_mbrs // 2\n",
    "        at_home = num_mbrs - at_bar\n",
    "        self.grp_struct[AT_BAR][\"num_mbrs\"] = at_bar\n",
    "        self.grp_struct[AT_HOME][\"num_mbrs\"] = at_home\n",
    "        global mem_capacity\n",
    "        mem_capacity = self.props.get(\"memory\", DEF_MEM_CAPACITY)"
   ]
  },
  {
   "cell_type": "markdown",
   "metadata": {},
   "source": [
    "Here's where we create the model class."
   ]
  },
  {
   "cell_type": "code",
   "execution_count": null,
   "metadata": {},
   "outputs": [],
   "source": [
    "def create_model(serial_obj=None, props=None):\n",
    "    \"\"\"\n",
    "    This is for the sake of the API server:\n",
    "    \"\"\"\n",
    "    if serial_obj is not None:\n",
    "        return ElFarol(serial_obj=serial_obj)\n",
    "    else:\n",
    "        return ElFarol(MODEL_NAME, grp_struct=el_farol_grps, props=props)"
   ]
  },
  {
   "cell_type": "markdown",
   "metadata": {},
   "source": [
    "The main function runs the whole model."
   ]
  },
  {
   "cell_type": "code",
   "execution_count": null,
   "metadata": {},
   "outputs": [],
   "source": [
    "def main():\n",
    "    model = create_model()\n",
    "    model.run()\n",
    "    return 0"
   ]
  },
  {
   "cell_type": "markdown",
   "metadata": {},
   "source": [
    "Now just call main!"
   ]
  },
  {
   "cell_type": "code",
   "execution_count": null,
   "metadata": {},
   "outputs": [],
   "source": [
    "if __name__ == \"__main__\":\n",
    "    main()"
   ]
  }
 ],
 "metadata": {},
 "nbformat": 4,
 "nbformat_minor": 4
}
