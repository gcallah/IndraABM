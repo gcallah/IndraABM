{
 "cells": [
  {
   "cell_type": "markdown",
   "metadata": {},
   "source": [
    "Set ENV user_type to properly run the model in the notebook"
   ]
  },
  {
   "cell_type": "code",
   "execution_count": null,
   "metadata": {},
   "outputs": [],
   "source": [
    "import os\n",
    "os.environ[\"user_type\"] = \"terminal\""
   ]
  },
  {
   "cell_type": "markdown",
   "metadata": {},
   "source": [
    "A short description about this model."
   ]
  },
  {
   "cell_type": "code",
   "execution_count": null,
   "metadata": {},
   "outputs": [],
   "source": [
    "\"\"\"\n",
    "A model to simulate Conway's game of life.\n",
    "\"\"\""
   ]
  },
  {
   "cell_type": "markdown",
   "metadata": {},
   "source": [
    "We import all necessary modules and functions from other files."
   ]
  },
  {
   "cell_type": "code",
   "execution_count": null,
   "metadata": {},
   "outputs": [],
   "source": [
    "from lib.display_methods import RED, BLUE\n",
    "from lib.agent import DONT_MOVE\n",
    "from lib.model import Model, create_agent, NUM_MBRS, NUM_MBRS_PROP\n",
    "from lib.model import COLOR, MBR_ACTION\n",
    "from lib.space import get_num_of_neighbors\n",
    "from registry.registry import get_agent\n",
    "from lib.agent import X, Y"
   ]
  },
  {
   "cell_type": "markdown",
   "metadata": {},
   "source": [
    "These are the constants and global variables we used in this model."
   ]
  },
  {
   "cell_type": "code",
   "execution_count": null,
   "metadata": {},
   "outputs": [],
   "source": [
    "DEBUG = False\n",
    "\n",
    "MODEL_NAME = \"game_of_life\"\n",
    "\n",
    "DEF_NUM_ALIVE = 4\n",
    "DEF_NUM_DEAD = 4\n",
    "\n",
    "DEAD = \"dead\"\n",
    "ALIVE = \"alive\""
   ]
  },
  {
   "cell_type": "markdown",
   "metadata": {},
   "source": [
    "The following functions define some actions that our agents can make."
   ]
  },
  {
   "cell_type": "code",
   "execution_count": null,
   "metadata": {},
   "outputs": [],
   "source": [
    "def is_dead(agent):\n",
    "    return agent.prim_group == DEAD\n",
    "\n",
    "\n",
    "def game_of_life_action(biosphere, **kwargs):\n",
    "    dead_grp = get_agent(DEAD, biosphere.exec_key)\n",
    "    print(\"Dead grp is:\", repr(dead_grp))\n",
    "\n",
    "\n",
    "def game_agent_action(agent, **kwargs):\n",
    "    \"\"\"\n",
    "    A simple default agent action.\n",
    "    \"\"\"\n",
    "    if DEBUG:\n",
    "        print(\"GofL agent {} is acting\".format(agent.name))\n",
    "    return DONT_MOVE"
   ]
  },
  {
   "cell_type": "markdown",
   "metadata": {},
   "source": [
    "This structure defines the groups that characterize our agents."
   ]
  },
  {
   "cell_type": "code",
   "execution_count": null,
   "metadata": {},
   "outputs": [],
   "source": [
    "game_grps = {\n",
    "    \"dead\": {\n",
    "        NUM_MBRS: DEF_NUM_DEAD,\n",
    "        NUM_MBRS_PROP: \"num_blue\",\n",
    "        COLOR: BLUE\n",
    "    },\n",
    "    \"alive\": {\n",
    "        MBR_ACTION: game_agent_action,\n",
    "        NUM_MBRS: DEF_NUM_ALIVE,\n",
    "        NUM_MBRS_PROP: \"num_red\",\n",
    "        COLOR: RED\n",
    "    },\n",
    "}\n",
    "\n",
    "\n",
    "def populate_board(patterns, pattern_num):\n",
    "    agent_locs = patterns[pattern_num]\n",
    "    grp = game_grps[\"dead\"]\n",
    "    for loc in agent_locs:\n",
    "        agent = create_agent(loc[X], loc[Y], game_agent_action)\n",
    "        grp += create_agent\n",
    "        get_agent().place_member(agent, xy=loc)\n",
    "\n",
    "\n",
    "def live_or_die(agent):\n",
    "    \"\"\"\n",
    "    Apply the rules for live agents.\n",
    "    The agent passed in should be alive, meaning its color should be black.\n",
    "    \"\"\"\n",
    "    num_live_neighbors = get_num_of_neighbors(exclude_self=True, pred=None,\n",
    "                                              size=1, region_type=None)\n",
    "    # 2 and 3 should not be hard-coded!\n",
    "    if (num_live_neighbors != 2 and num_live_neighbors != 3):\n",
    "        return BLUE\n",
    "    else:\n",
    "        return RED"
   ]
  },
  {
   "cell_type": "markdown",
   "metadata": {},
   "source": [
    "We subclass `Model` to create our own variant of it."
   ]
  },
  {
   "cell_type": "code",
   "execution_count": null,
   "metadata": {},
   "outputs": [],
   "source": [
    "class GameOfLife(Model):\n",
    "    def run(self):\n",
    "        if DEBUG:\n",
    "            print(\"My groups are:\", self.groups)\n",
    "        return super().run()"
   ]
  },
  {
   "cell_type": "markdown",
   "metadata": {},
   "source": [
    "Here's where we create the model class."
   ]
  },
  {
   "cell_type": "code",
   "execution_count": null,
   "metadata": {},
   "outputs": [],
   "source": [
    "def create_model(serial_obj=None, props=None):\n",
    "    \"\"\"\n",
    "    This is for the sake of the API server:\n",
    "    \"\"\"\n",
    "    if serial_obj is not None:\n",
    "        return GameOfLife(serial_obj=serial_obj)\n",
    "    else:\n",
    "        return GameOfLife(MODEL_NAME, grp_struct=game_grps, props=props)"
   ]
  },
  {
   "cell_type": "markdown",
   "metadata": {},
   "source": [
    "The main function runs the whole model."
   ]
  },
  {
   "cell_type": "code",
   "execution_count": null,
   "metadata": {},
   "outputs": [],
   "source": [
    "def main():\n",
    "    model = create_model()\n",
    "    model.run()\n",
    "    return 0"
   ]
  },
  {
   "cell_type": "markdown",
   "metadata": {},
   "source": [
    "Now just call main!"
   ]
  },
  {
   "cell_type": "code",
   "execution_count": null,
   "metadata": {},
   "outputs": [],
   "source": [
    "if __name__ == \"__main__\":\n",
    "    main()"
   ]
  }
 ],
 "metadata": {},
 "nbformat": 4,
 "nbformat_minor": 4
}
